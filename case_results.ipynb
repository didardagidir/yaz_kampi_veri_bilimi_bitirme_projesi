{
 "cells": [
  {
   "cell_type": "code",
   "execution_count": 1,
   "id": "e63f7f24-a300-4101-a260-5c0344b0cdb0",
   "metadata": {},
   "outputs": [],
   "source": [
    "import numpy as np\n",
    "import pandas as pd\n",
    "import matplotlib.pyplot as plt"
   ]
  },
  {
   "cell_type": "code",
   "execution_count": 2,
   "id": "b6d59717-d777-40e1-af20-aef524e300fe",
   "metadata": {},
   "outputs": [
    {
     "name": "stdout",
     "output_type": "stream",
     "text": [
      "    Case Type  Case Duration (Days)  Judge Experience (Years)  \\\n",
      "0    Criminal                   221                        39   \n",
      "1       Civil                   212                        14   \n",
      "2       Civil                    47                         6   \n",
      "3  Commercial                   358                        13   \n",
      "4    Criminal                    33                        17   \n",
      "\n",
      "   Number of Witnesses  Legal Fees (USD)  Plaintiff's Reputation  \\\n",
      "0                   18             24306                       2   \n",
      "1                    1             42444                       3   \n",
      "2                   19             21418                       1   \n",
      "3                    9             45005                       3   \n",
      "4                   17             36315                       2   \n",
      "\n",
      "   Defendant's Wealth (USD)  Number of Evidence Items  \\\n",
      "0                    663160                         3   \n",
      "1                    252011                        67   \n",
      "2                    307309                        66   \n",
      "3                    285111                        63   \n",
      "4                     84229                        38   \n",
      "\n",
      "   Number of Legal Precedents  Settlement Offered (USD)  Severity  Outcome  \n",
      "0                           1                     29014         1        0  \n",
      "1                           4                     21591         1        0  \n",
      "2                           6                     25530         3        0  \n",
      "3                           1                     28470         1        0  \n",
      "4                           2                     38244         2        0  \n"
     ]
    }
   ],
   "source": [
    "df = pd.read_csv(r\"C:\\Users\\Didar\\Downloads\\bitirme\\dava_sonuclari.csv\")\n",
    "print(df.head())"
   ]
  },
  {
   "cell_type": "code",
   "execution_count": 3,
   "id": "e8497f91-259a-40e2-b8ef-32af9f56d442",
   "metadata": {},
   "outputs": [
    {
     "name": "stdout",
     "output_type": "stream",
     "text": [
      "isna():\n",
      "      Case Type  Case Duration (Days)  Judge Experience (Years)  \\\n",
      "0        False                 False                     False   \n",
      "1        False                 False                     False   \n",
      "2        False                 False                     False   \n",
      "3        False                 False                     False   \n",
      "4        False                 False                     False   \n",
      "..         ...                   ...                       ...   \n",
      "195      False                 False                     False   \n",
      "196      False                 False                     False   \n",
      "197      False                 False                     False   \n",
      "198      False                 False                     False   \n",
      "199      False                 False                     False   \n",
      "\n",
      "     Number of Witnesses  Legal Fees (USD)  Plaintiff's Reputation  \\\n",
      "0                  False             False                   False   \n",
      "1                  False             False                   False   \n",
      "2                  False             False                   False   \n",
      "3                  False             False                   False   \n",
      "4                  False             False                   False   \n",
      "..                   ...               ...                     ...   \n",
      "195                False             False                   False   \n",
      "196                False             False                   False   \n",
      "197                False             False                   False   \n",
      "198                False             False                   False   \n",
      "199                False             False                   False   \n",
      "\n",
      "     Defendant's Wealth (USD)  Number of Evidence Items  \\\n",
      "0                       False                     False   \n",
      "1                       False                     False   \n",
      "2                       False                     False   \n",
      "3                       False                     False   \n",
      "4                       False                     False   \n",
      "..                        ...                       ...   \n",
      "195                     False                     False   \n",
      "196                     False                     False   \n",
      "197                     False                     False   \n",
      "198                     False                     False   \n",
      "199                     False                     False   \n",
      "\n",
      "     Number of Legal Precedents  Settlement Offered (USD)  Severity  Outcome  \n",
      "0                         False                     False     False    False  \n",
      "1                         False                     False     False    False  \n",
      "2                         False                     False     False    False  \n",
      "3                         False                     False     False    False  \n",
      "4                         False                     False     False    False  \n",
      "..                          ...                       ...       ...      ...  \n",
      "195                       False                     False     False    False  \n",
      "196                       False                     False     False    False  \n",
      "197                       False                     False     False    False  \n",
      "198                       False                     False     False    False  \n",
      "199                       False                     False     False    False  \n",
      "\n",
      "[200 rows x 12 columns]\n",
      "\n",
      "Sum of na (per column):\n",
      " Case Type                     0\n",
      "Case Duration (Days)          0\n",
      "Judge Experience (Years)      0\n",
      "Number of Witnesses           0\n",
      "Legal Fees (USD)              0\n",
      "Plaintiff's Reputation        0\n",
      "Defendant's Wealth (USD)      0\n",
      "Number of Evidence Items      0\n",
      "Number of Legal Precedents    0\n",
      "Settlement Offered (USD)      0\n",
      "Severity                      0\n",
      "Outcome                       0\n",
      "dtype: int64\n"
     ]
    }
   ],
   "source": [
    "print(\"isna():\\n\", df.isna())\n",
    "print(\"\\nSum of na (per column):\\n\", df.isna().sum())"
   ]
  },
  {
   "cell_type": "code",
   "execution_count": 4,
   "id": "cc1f7633-da63-4ea2-9929-794610a5445a",
   "metadata": {},
   "outputs": [
    {
     "data": {
      "image/png": "[encoded data removed]",
      "text/plain": [
       "<Figure size 1200x600 with 1 Axes>"
      ]
     },
     "metadata": {},
     "output_type": "display_data"
    }
   ],
   "source": [
    "numeric_columns = df.select_dtypes(include = [\"int64\", \"float64\"]).columns\n",
    "\n",
    "df[numeric_columns].plot(kind=\"box\", figsize=(12,6))\n",
    "plt.title(\"Outlier for Numerical Variables\")\n",
    "plt.xticks(rotation=45)\n",
    "plt.show()"
   ]
  },
  {
   "cell_type": "code",
   "execution_count": 5,
   "id": "5b96abec-1eed-4449-8182-7adf7c53edf6",
   "metadata": {},
   "outputs": [
    {
     "name": "stdout",
     "output_type": "stream",
     "text": [
      "998828\n",
      "15798\n"
     ]
    }
   ],
   "source": [
    "print(df[\"Defendant's Wealth (USD)\"].max())\n",
    "print(df[\"Defendant's Wealth (USD)\"].min())"
   ]
  },
  {
   "cell_type": "code",
   "execution_count": 6,
   "id": "7379cd60-2e6c-40cb-b2cd-96f32452071a",
   "metadata": {},
   "outputs": [
    {
     "name": "stdout",
     "output_type": "stream",
     "text": [
      "count       200.000000\n",
      "mean     526074.070000\n",
      "std      266597.695079\n",
      "min       15798.000000\n",
      "25%      307007.000000\n",
      "50%      532654.000000\n",
      "75%      732185.750000\n",
      "max      998828.000000\n",
      "Name: Defendant's Wealth (USD), dtype: float64\n"
     ]
    }
   ],
   "source": [
    "print(df[\"Defendant's Wealth (USD)\"].describe())"
   ]
  },
  {
   "cell_type": "code",
   "execution_count": 7,
   "id": "d946d135-33e9-4ae6-83aa-c948cf17da57",
   "metadata": {},
   "outputs": [
    {
     "name": "stdout",
     "output_type": "stream",
     "text": [
      "39     998828\n",
      "47     996515\n",
      "90     996022\n",
      "156    994317\n",
      "76     991313\n",
      "169    987062\n",
      "122    967871\n",
      "83     967072\n",
      "167    965127\n",
      "116    962664\n",
      "Name: Defendant's Wealth (USD), dtype: int64\n"
     ]
    }
   ],
   "source": [
    "print(df[\"Defendant's Wealth (USD)\"].sort_values(ascending=False).head(10))"
   ]
  },
  {
   "cell_type": "code",
   "execution_count": 8,
   "id": "7e86df31-2576-438b-9534-b36a07e8140a",
   "metadata": {},
   "outputs": [
    {
     "name": "stdout",
     "output_type": "stream",
     "text": [
      "Lower limit:  42420.41\n",
      "Upper limit:  996026.93\n",
      "Sum of columns that less than lower limit:  2\n",
      "Sum of columns that greater than upper limit:  2\n",
      "New maximum value:  996022\n",
      "New minimum value:  42534\n",
      "Remaining row count:  196\n"
     ]
    }
   ],
   "source": [
    "lower_limit = df[\"Defendant's Wealth (USD)\"].quantile(0.01)\n",
    "upper_limit = df[\"Defendant's Wealth (USD)\"].quantile(0.99)\n",
    "\n",
    "print(\"Lower limit: \", lower_limit)\n",
    "print(\"Upper limit: \", upper_limit)\n",
    "\n",
    "print(\"Sum of columns that less than lower limit: \", df[df[\"Defendant's Wealth (USD)\"] < lower_limit].shape[0])\n",
    "print(\"Sum of columns that greater than upper limit: \", df[df[\"Defendant's Wealth (USD)\"] > upper_limit].shape[0])\n",
    "\n",
    "df = df[(df[\"Defendant's Wealth (USD)\"] >= lower_limit) & (df[\"Defendant's Wealth (USD)\"] <= upper_limit)]\n",
    "\n",
    "print(\"New maximum value: \", df[\"Defendant's Wealth (USD)\"].max())\n",
    "print(\"New minimum value: \", df[\"Defendant's Wealth (USD)\"].min())\n",
    "print(\"Remaining row count: \", df.shape[0])"
   ]
  },
  {
   "cell_type": "code",
   "execution_count": null,
   "id": "b1b4510f-20a4-465c-aac5-ce2a6446f0a8",
   "metadata": {},
   "outputs": [],
   "source": [
    "# After applying the outlier filtering based on the 1st and 99th percentiles of the \"Defendant's Wealth (USD)\" column, 4 rows were removed (2 below the lower limit and 2 above the upper limit). As a result, the remaining dataset consists of 196 rows, with a minimum value of 42,534 and a maximum value of 996,022."
   ]
  },
  {
   "cell_type": "code",
   "execution_count": 20,
   "id": "7aa6a594-0598-40f3-b721-5bb73eb8a40a",
   "metadata": {},
   "outputs": [],
   "source": [
    "from sklearn.model_selection import train_test_split"
   ]
  },
  {
   "cell_type": "code",
   "execution_count": 46,
   "id": "d32e43ce-8e2e-4cd0-afe9-8119f5fea356",
   "metadata": {},
   "outputs": [
    {
     "name": "stdout",
     "output_type": "stream",
     "text": [
      "Training set size:  156\n",
      "Test set size:  40\n"
     ]
    }
   ],
   "source": [
    "x = df.drop(columns = [\"Outcome\"])\n",
    "y = df[\"Outcome\"]\n",
    "\n",
    "x_train, x_test, y_train, y_test = train_test_split(x, y, test_size = 0.2, random_state = 42)\n",
    "\n",
    "print(\"Training set size: \", x_train.shape[0])\n",
    "print(\"Test set size: \", x_test.shape[0])"
   ]
  },
  {
   "cell_type": "code",
   "execution_count": null,
   "id": "4ca38da0-9833-4e6d-88c2-4bb397b31e7a",
   "metadata": {},
   "outputs": [],
   "source": [
    "# The dataset was split into training and test sets, with 156 samples (80%) used for training and 40 samples (20%) used for testing."
   ]
  },
  {
   "cell_type": "code",
   "execution_count": 44,
   "id": "a18d2f39-ad52-4a4f-82c5-e09b02b387f8",
   "metadata": {},
   "outputs": [
    {
     "name": "stdout",
     "output_type": "stream",
     "text": [
      "Case Type                     int64\n",
      "Case Duration (Days)          int64\n",
      "Judge Experience (Years)      int64\n",
      "Number of Witnesses           int64\n",
      "Legal Fees (USD)              int64\n",
      "Plaintiff's Reputation        int64\n",
      "Defendant's Wealth (USD)      int64\n",
      "Number of Evidence Items      int64\n",
      "Number of Legal Precedents    int64\n",
      "Settlement Offered (USD)      int64\n",
      "Severity                      int64\n",
      "Outcome                       int64\n",
      "dtype: object\n"
     ]
    }
   ],
   "source": [
    "print(df.dtypes)"
   ]
  },
  {
   "cell_type": "code",
   "execution_count": 36,
   "id": "4cdfdbbd-d30a-4ca0-ac12-c80327f7ff17",
   "metadata": {},
   "outputs": [],
   "source": [
    "from sklearn.tree import DecisionTreeClassifier"
   ]
  },
  {
   "cell_type": "code",
   "execution_count": 38,
   "id": "04a85bca-8813-42a6-abcd-863282577a62",
   "metadata": {},
   "outputs": [],
   "source": [
    "from sklearn.preprocessing import LabelEncoder"
   ]
  },
  {
   "cell_type": "code",
   "execution_count": 50,
   "id": "05094211-2a35-4649-a8a0-d2860ef619fa",
   "metadata": {},
   "outputs": [],
   "source": [
    "encoder = LabelEncoder()\n",
    "\n",
    "df[\"Case Type\"] = encoder.fit_transform(df[\"Case Type\"])\n",
    "df[\"Severity\"] = encoder.fit_transform(df[\"Severity\"])\n",
    "df[\"Outcome\"] = encoder.fit_transform(df[\"Outcome\"])"
   ]
  },
  {
   "cell_type": "code",
   "execution_count": 56,
   "id": "d6725be9-d144-41f0-a272-d51cbdb006a2",
   "metadata": {
    "scrolled": true
   },
   "outputs": [
    {
     "data": {
      "text/html": [
       "<style>#sk-container-id-3 {\n",
       "  /* Definition of color scheme common for light and dark mode */\n",
       "  --sklearn-color-text: black;\n",
       "  --sklearn-color-line: gray;\n",
       "  /* Definition of color scheme for unfitted estimators */\n",
       "  --sklearn-color-unfitted-level-0: #fff5e6;\n",
       "  --sklearn-color-unfitted-level-1: #f6e4d2;\n",
       "  --sklearn-color-unfitted-level-2: #ffe0b3;\n",
       "  --sklearn-color-unfitted-level-3: chocolate;\n",
       "  /* Definition of color scheme for fitted estimators */\n",
       "  --sklearn-color-fitted-level-0: #f0f8ff;\n",
       "  --sklearn-color-fitted-level-1: #d4ebff;\n",
       "  --sklearn-color-fitted-level-2: #b3dbfd;\n",
       "  --sklearn-color-fitted-level-3: cornflowerblue;\n",
       "\n",
       "  /* Specific color for light theme */\n",
       "  --sklearn-color-text-on-default-background: var(--sg-text-color, var(--theme-code-foreground, var(--jp-content-font-color1, black)));\n",
       "  --sklearn-color-background: var(--sg-background-color, var(--theme-background, var(--jp-layout-color0, white)));\n",
       "  --sklearn-color-border-box: var(--sg-text-color, var(--theme-code-foreground, var(--jp-content-font-color1, black)));\n",
       "  --sklearn-color-icon: #696969;\n",
       "\n",
       "  @media (prefers-color-scheme: dark) {\n",
       "    /* Redefinition of color scheme for dark theme */\n",
       "    --sklearn-color-text-on-default-background: var(--sg-text-color, var(--theme-code-foreground, var(--jp-content-font-color1, white)));\n",
       "    --sklearn-color-background: var(--sg-background-color, var(--theme-background, var(--jp-layout-color0, #111)));\n",
       "    --sklearn-color-border-box: var(--sg-text-color, var(--theme-code-foreground, var(--jp-content-font-color1, white)));\n",
       "    --sklearn-color-icon: #878787;\n",
       "  }\n",
       "}\n",
       "\n",
       "#sk-container-id-3 {\n",
       "  color: var(--sklearn-color-text);\n",
       "}\n",
       "\n",
       "#sk-container-id-3 pre {\n",
       "  padding: 0;\n",
       "}\n",
       "\n",
       "#sk-container-id-3 input.sk-hidden--visually {\n",
       "  border: 0;\n",
       "  clip: rect(1px 1px 1px 1px);\n",
       "  clip: rect(1px, 1px, 1px, 1px);\n",
       "  height: 1px;\n",
       "  margin: -1px;\n",
       "  overflow: hidden;\n",
       "  padding: 0;\n",
       "  position: absolute;\n",
       "  width: 1px;\n",
       "}\n",
       "\n",
       "#sk-container-id-3 div.sk-dashed-wrapped {\n",
       "  border: 1px dashed var(--sklearn-color-line);\n",
       "  margin: 0 0.4em 0.5em 0.4em;\n",
       "  box-sizing: border-box;\n",
       "  padding-bottom: 0.4em;\n",
       "  background-color: var(--sklearn-color-background);\n",
       "}\n",
       "\n",
       "#sk-container-id-3 div.sk-container {\n",
       "  /* jupyter's `normalize.less` sets `[hidden] { display: none; }`\n",
       "     but bootstrap.min.css set `[hidden] { display: none !important; }`\n",
       "     so we also need the `!important` here to be able to override the\n",
       "     default hidden behavior on the sphinx rendered scikit-learn.org.\n",
       "     See: https://github.com/scikit-learn/scikit-learn/issues/21755 */\n",
       "  display: inline-block !important;\n",
       "  position: relative;\n",
       "}\n",
       "\n",
       "#sk-container-id-3 div.sk-text-repr-fallback {\n",
       "  display: none;\n",
       "}\n",
       "\n",
       "div.sk-parallel-item,\n",
       "div.sk-serial,\n",
       "div.sk-item {\n",
       "  /* draw centered vertical line to link estimators */\n",
       "  background-image: linear-gradient(var(--sklearn-color-text-on-default-background), var(--sklearn-color-text-on-default-background));\n",
       "  background-size: 2px 100%;\n",
       "  background-repeat: no-repeat;\n",
       "  background-position: center center;\n",
       "}\n",
       "\n",
       "/* Parallel-specific style estimator block */\n",
       "\n",
       "#sk-container-id-3 div.sk-parallel-item::after {\n",
       "  content: \"\";\n",
       "  width: 100%;\n",
       "  border-bottom: 2px solid var(--sklearn-color-text-on-default-background);\n",
       "  flex-grow: 1;\n",
       "}\n",
       "\n",
       "#sk-container-id-3 div.sk-parallel {\n",
       "  display: flex;\n",
       "  align-items: stretch;\n",
       "  justify-content: center;\n",
       "  background-color: var(--sklearn-color-background);\n",
       "  position: relative;\n",
       "}\n",
       "\n",
       "#sk-container-id-3 div.sk-parallel-item {\n",
       "  display: flex;\n",
       "  flex-direction: column;\n",
       "}\n",
       "\n",
       "#sk-container-id-3 div.sk-parallel-item:first-child::after {\n",
       "  align-self: flex-end;\n",
       "  width: 50%;\n",
       "}\n",
       "\n",
       "#sk-container-id-3 div.sk-parallel-item:last-child::after {\n",
       "  align-self: flex-start;\n",
       "  width: 50%;\n",
       "}\n",
       "\n",
       "#sk-container-id-3 div.sk-parallel-item:only-child::after {\n",
       "  width: 0;\n",
       "}\n",
       "\n",
       "/* Serial-specific style estimator block */\n",
       "\n",
       "#sk-container-id-3 div.sk-serial {\n",
       "  display: flex;\n",
       "  flex-direction: column;\n",
       "  align-items: center;\n",
       "  background-color: var(--sklearn-color-background);\n",
       "  padding-right: 1em;\n",
       "  padding-left: 1em;\n",
       "}\n",
       "\n",
       "\n",
       "/* Toggleable style: style used for estimator/Pipeline/ColumnTransformer box that is\n",
       "clickable and can be expanded/collapsed.\n",
       "- Pipeline and ColumnTransformer use this feature and define the default style\n",
       "- Estimators will overwrite some part of the style using the `sk-estimator` class\n",
       "*/\n",
       "\n",
       "/* Pipeline and ColumnTransformer style (default) */\n",
       "\n",
       "#sk-container-id-3 div.sk-toggleable {\n",
       "  /* Default theme specific background. It is overwritten whether we have a\n",
       "  specific estimator or a Pipeline/ColumnTransformer */\n",
       "  background-color: var(--sklearn-color-background);\n",
       "}\n",
       "\n",
       "/* Toggleable label */\n",
       "#sk-container-id-3 label.sk-toggleable__label {\n",
       "  cursor: pointer;\n",
       "  display: block;\n",
       "  width: 100%;\n",
       "  margin-bottom: 0;\n",
       "  padding: 0.5em;\n",
       "  box-sizing: border-box;\n",
       "  text-align: center;\n",
       "}\n",
       "\n",
       "#sk-container-id-3 label.sk-toggleable__label-arrow:before {\n",
       "  /* Arrow on the left of the label */\n",
       "  content: \"▸\";\n",
       "  float: left;\n",
       "  margin-right: 0.25em;\n",
       "  color: var(--sklearn-color-icon);\n",
       "}\n",
       "\n",
       "#sk-container-id-3 label.sk-toggleable__label-arrow:hover:before {\n",
       "  color: var(--sklearn-color-text);\n",
       "}\n",
       "\n",
       "/* Toggleable content - dropdown */\n",
       "\n",
       "#sk-container-id-3 div.sk-toggleable__content {\n",
       "  max-height: 0;\n",
       "  max-width: 0;\n",
       "  overflow: hidden;\n",
       "  text-align: left;\n",
       "  /* unfitted */\n",
       "  background-color: var(--sklearn-color-unfitted-level-0);\n",
       "}\n",
       "\n",
       "#sk-container-id-3 div.sk-toggleable__content.fitted {\n",
       "  /* fitted */\n",
       "  background-color: var(--sklearn-color-fitted-level-0);\n",
       "}\n",
       "\n",
       "#sk-container-id-3 div.sk-toggleable__content pre {\n",
       "  margin: 0.2em;\n",
       "  border-radius: 0.25em;\n",
       "  color: var(--sklearn-color-text);\n",
       "  /* unfitted */\n",
       "  background-color: var(--sklearn-color-unfitted-level-0);\n",
       "}\n",
       "\n",
       "#sk-container-id-3 div.sk-toggleable__content.fitted pre {\n",
       "  /* unfitted */\n",
       "  background-color: var(--sklearn-color-fitted-level-0);\n",
       "}\n",
       "\n",
       "#sk-container-id-3 input.sk-toggleable__control:checked~div.sk-toggleable__content {\n",
       "  /* Expand drop-down */\n",
       "  max-height: 200px;\n",
       "  max-width: 100%;\n",
       "  overflow: auto;\n",
       "}\n",
       "\n",
       "#sk-container-id-3 input.sk-toggleable__control:checked~label.sk-toggleable__label-arrow:before {\n",
       "  content: \"▾\";\n",
       "}\n",
       "\n",
       "/* Pipeline/ColumnTransformer-specific style */\n",
       "\n",
       "#sk-container-id-3 div.sk-label input.sk-toggleable__control:checked~label.sk-toggleable__label {\n",
       "  color: var(--sklearn-color-text);\n",
       "  background-color: var(--sklearn-color-unfitted-level-2);\n",
       "}\n",
       "\n",
       "#sk-container-id-3 div.sk-label.fitted input.sk-toggleable__control:checked~label.sk-toggleable__label {\n",
       "  background-color: var(--sklearn-color-fitted-level-2);\n",
       "}\n",
       "\n",
       "/* Estimator-specific style */\n",
       "\n",
       "/* Colorize estimator box */\n",
       "#sk-container-id-3 div.sk-estimator input.sk-toggleable__control:checked~label.sk-toggleable__label {\n",
       "  /* unfitted */\n",
       "  background-color: var(--sklearn-color-unfitted-level-2);\n",
       "}\n",
       "\n",
       "#sk-container-id-3 div.sk-estimator.fitted input.sk-toggleable__control:checked~label.sk-toggleable__label {\n",
       "  /* fitted */\n",
       "  background-color: var(--sklearn-color-fitted-level-2);\n",
       "}\n",
       "\n",
       "#sk-container-id-3 div.sk-label label.sk-toggleable__label,\n",
       "#sk-container-id-3 div.sk-label label {\n",
       "  /* The background is the default theme color */\n",
       "  color: var(--sklearn-color-text-on-default-background);\n",
       "}\n",
       "\n",
       "/* On hover, darken the color of the background */\n",
       "#sk-container-id-3 div.sk-label:hover label.sk-toggleable__label {\n",
       "  color: var(--sklearn-color-text);\n",
       "  background-color: var(--sklearn-color-unfitted-level-2);\n",
       "}\n",
       "\n",
       "/* Label box, darken color on hover, fitted */\n",
       "#sk-container-id-3 div.sk-label.fitted:hover label.sk-toggleable__label.fitted {\n",
       "  color: var(--sklearn-color-text);\n",
       "  background-color: var(--sklearn-color-fitted-level-2);\n",
       "}\n",
       "\n",
       "/* Estimator label */\n",
       "\n",
       "#sk-container-id-3 div.sk-label label {\n",
       "  font-family: monospace;\n",
       "  font-weight: bold;\n",
       "  display: inline-block;\n",
       "  line-height: 1.2em;\n",
       "}\n",
       "\n",
       "#sk-container-id-3 div.sk-label-container {\n",
       "  text-align: center;\n",
       "}\n",
       "\n",
       "/* Estimator-specific */\n",
       "#sk-container-id-3 div.sk-estimator {\n",
       "  font-family: monospace;\n",
       "  border: 1px dotted var(--sklearn-color-border-box);\n",
       "  border-radius: 0.25em;\n",
       "  box-sizing: border-box;\n",
       "  margin-bottom: 0.5em;\n",
       "  /* unfitted */\n",
       "  background-color: var(--sklearn-color-unfitted-level-0);\n",
       "}\n",
       "\n",
       "#sk-container-id-3 div.sk-estimator.fitted {\n",
       "  /* fitted */\n",
       "  background-color: var(--sklearn-color-fitted-level-0);\n",
       "}\n",
       "\n",
       "/* on hover */\n",
       "#sk-container-id-3 div.sk-estimator:hover {\n",
       "  /* unfitted */\n",
       "  background-color: var(--sklearn-color-unfitted-level-2);\n",
       "}\n",
       "\n",
       "#sk-container-id-3 div.sk-estimator.fitted:hover {\n",
       "  /* fitted */\n",
       "  background-color: var(--sklearn-color-fitted-level-2);\n",
       "}\n",
       "\n",
       "/* Specification for estimator info (e.g. \"i\" and \"?\") */\n",
       "\n",
       "/* Common style for \"i\" and \"?\" */\n",
       "\n",
       ".sk-estimator-doc-link,\n",
       "a:link.sk-estimator-doc-link,\n",
       "a:visited.sk-estimator-doc-link {\n",
       "  float: right;\n",
       "  font-size: smaller;\n",
       "  line-height: 1em;\n",
       "  font-family: monospace;\n",
       "  background-color: var(--sklearn-color-background);\n",
       "  border-radius: 1em;\n",
       "  height: 1em;\n",
       "  width: 1em;\n",
       "  text-decoration: none !important;\n",
       "  margin-left: 1ex;\n",
       "  /* unfitted */\n",
       "  border: var(--sklearn-color-unfitted-level-1) 1pt solid;\n",
       "  color: var(--sklearn-color-unfitted-level-1);\n",
       "}\n",
       "\n",
       ".sk-estimator-doc-link.fitted,\n",
       "a:link.sk-estimator-doc-link.fitted,\n",
       "a:visited.sk-estimator-doc-link.fitted {\n",
       "  /* fitted */\n",
       "  border: var(--sklearn-color-fitted-level-1) 1pt solid;\n",
       "  color: var(--sklearn-color-fitted-level-1);\n",
       "}\n",
       "\n",
       "/* On hover */\n",
       "div.sk-estimator:hover .sk-estimator-doc-link:hover,\n",
       ".sk-estimator-doc-link:hover,\n",
       "div.sk-label-container:hover .sk-estimator-doc-link:hover,\n",
       ".sk-estimator-doc-link:hover {\n",
       "  /* unfitted */\n",
       "  background-color: var(--sklearn-color-unfitted-level-3);\n",
       "  color: var(--sklearn-color-background);\n",
       "  text-decoration: none;\n",
       "}\n",
       "\n",
       "div.sk-estimator.fitted:hover .sk-estimator-doc-link.fitted:hover,\n",
       ".sk-estimator-doc-link.fitted:hover,\n",
       "div.sk-label-container:hover .sk-estimator-doc-link.fitted:hover,\n",
       ".sk-estimator-doc-link.fitted:hover {\n",
       "  /* fitted */\n",
       "  background-color: var(--sklearn-color-fitted-level-3);\n",
       "  color: var(--sklearn-color-background);\n",
       "  text-decoration: none;\n",
       "}\n",
       "\n",
       "/* Span, style for the box shown on hovering the info icon */\n",
       ".sk-estimator-doc-link span {\n",
       "  display: none;\n",
       "  z-index: 9999;\n",
       "  position: relative;\n",
       "  font-weight: normal;\n",
       "  right: .2ex;\n",
       "  padding: .5ex;\n",
       "  margin: .5ex;\n",
       "  width: min-content;\n",
       "  min-width: 20ex;\n",
       "  max-width: 50ex;\n",
       "  color: var(--sklearn-color-text);\n",
       "  box-shadow: 2pt 2pt 4pt #999;\n",
       "  /* unfitted */\n",
       "  background: var(--sklearn-color-unfitted-level-0);\n",
       "  border: .5pt solid var(--sklearn-color-unfitted-level-3);\n",
       "}\n",
       "\n",
       ".sk-estimator-doc-link.fitted span {\n",
       "  /* fitted */\n",
       "  background: var(--sklearn-color-fitted-level-0);\n",
       "  border: var(--sklearn-color-fitted-level-3);\n",
       "}\n",
       "\n",
       ".sk-estimator-doc-link:hover span {\n",
       "  display: block;\n",
       "}\n",
       "\n",
       "/* \"?\"-specific style due to the `<a>` HTML tag */\n",
       "\n",
       "#sk-container-id-3 a.estimator_doc_link {\n",
       "  float: right;\n",
       "  font-size: 1rem;\n",
       "  line-height: 1em;\n",
       "  font-family: monospace;\n",
       "  background-color: var(--sklearn-color-background);\n",
       "  border-radius: 1rem;\n",
       "  height: 1rem;\n",
       "  width: 1rem;\n",
       "  text-decoration: none;\n",
       "  /* unfitted */\n",
       "  color: var(--sklearn-color-unfitted-level-1);\n",
       "  border: var(--sklearn-color-unfitted-level-1) 1pt solid;\n",
       "}\n",
       "\n",
       "#sk-container-id-3 a.estimator_doc_link.fitted {\n",
       "  /* fitted */\n",
       "  border: var(--sklearn-color-fitted-level-1) 1pt solid;\n",
       "  color: var(--sklearn-color-fitted-level-1);\n",
       "}\n",
       "\n",
       "/* On hover */\n",
       "#sk-container-id-3 a.estimator_doc_link:hover {\n",
       "  /* unfitted */\n",
       "  background-color: var(--sklearn-color-unfitted-level-3);\n",
       "  color: var(--sklearn-color-background);\n",
       "  text-decoration: none;\n",
       "}\n",
       "\n",
       "#sk-container-id-3 a.estimator_doc_link.fitted:hover {\n",
       "  /* fitted */\n",
       "  background-color: var(--sklearn-color-fitted-level-3);\n",
       "}\n",
       "</style><div id=\"sk-container-id-3\" class=\"sk-top-container\"><div class=\"sk-text-repr-fallback\"><pre>DecisionTreeClassifier(random_state=42)</pre><b>In a Jupyter environment, please rerun this cell to show the HTML representation or trust the notebook. <br />On GitHub, the HTML representation is unable to render, please try loading this page with nbviewer.org.</b></div><div class=\"sk-container\" hidden><div class=\"sk-item\"><div class=\"sk-estimator fitted sk-toggleable\"><input class=\"sk-toggleable__control sk-hidden--visually\" id=\"sk-estimator-id-3\" type=\"checkbox\" checked><label for=\"sk-estimator-id-3\" class=\"sk-toggleable__label fitted sk-toggleable__label-arrow fitted\">&nbsp;&nbsp;DecisionTreeClassifier<a class=\"sk-estimator-doc-link fitted\" rel=\"noreferrer\" target=\"_blank\" href=\"https://scikit-learn.org/1.4/modules/generated/sklearn.tree.DecisionTreeClassifier.html\">?<span>Documentation for DecisionTreeClassifier</span></a><span class=\"sk-estimator-doc-link fitted\">i<span>Fitted</span></span></label><div class=\"sk-toggleable__content fitted\"><pre>DecisionTreeClassifier(random_state=42)</pre></div> </div></div></div></div>"
      ],
      "text/plain": [
       "DecisionTreeClassifier(random_state=42)"
      ]
     },
     "execution_count": 56,
     "metadata": {},
     "output_type": "execute_result"
    }
   ],
   "source": [
    "x = df.drop(columns = [\"Outcome\"])\n",
    "y = df[\"Outcome\"]\n",
    "\n",
    "model = DecisionTreeClassifier(random_state = 42)\n",
    "model.fit(x_train, y_train)"
   ]
  },
  {
   "cell_type": "code",
   "execution_count": 60,
   "id": "7e5c1158-dc49-4bd4-8dc1-88318ce8846c",
   "metadata": {},
   "outputs": [
    {
     "name": "stdout",
     "output_type": "stream",
     "text": [
      "First 10 predictions:  [0 0 0 0 0 0 0 0 0 0]\n"
     ]
    }
   ],
   "source": [
    "clf = DecisionTreeClassifier(random_state = 42)\n",
    "\n",
    "clf.fit(x_train, y_train)\n",
    "\n",
    "y_pred = clf.predict(x_test)\n",
    "\n",
    "print(\"First 10 predictions: \", y_pred[:10])"
   ]
  },
  {
   "cell_type": "code",
   "execution_count": 62,
   "id": "15a38fb1-654e-4470-a1aa-391a21e0d8f4",
   "metadata": {},
   "outputs": [],
   "source": [
    "from sklearn.metrics import accuracy_score, confusion_matrix, classification_report"
   ]
  },
  {
   "cell_type": "code",
   "execution_count": 70,
   "id": "497b67da-9e77-42db-9cbe-cad943fc1af3",
   "metadata": {},
   "outputs": [
    {
     "name": "stdout",
     "output_type": "stream",
     "text": [
      "Accuracy:  1.0\n",
      "Confusion Matrix:\n",
      " [[40  0]\n",
      " [ 0  0]]\n",
      "Classification Report:\n",
      "               precision    recall  f1-score   support\n",
      "\n",
      "           0       1.00      1.00      1.00        40\n",
      "\n",
      "    accuracy                           1.00        40\n",
      "   macro avg       1.00      1.00      1.00        40\n",
      "weighted avg       1.00      1.00      1.00        40\n",
      "\n",
      "Outcome\n",
      "0    196\n",
      "Name: count, dtype: int64\n",
      "Outcome\n",
      "0    156\n",
      "Name: count, dtype: int64\n",
      "Outcome\n",
      "0    40\n",
      "Name: count, dtype: int64\n"
     ]
    }
   ],
   "source": [
    "accuracy = accuracy_score(y_test, y_pred)\n",
    "print(\"Accuracy: \", accuracy)\n",
    "\n",
    "conf_matrix = confusion_matrix(y_test,y_pred, labels=[0,1])\n",
    "print(\"Confusion Matrix:\\n\", conf_matrix)\n",
    "\n",
    "print(\"Classification Report:\\n\", classification_report(y_test, y_pred))\n",
    "\n",
    "print(y.value_counts())\n",
    "print(y_train.value_counts())\n",
    "print(y_test.value_counts())"
   ]
  },
  {
   "cell_type": "code",
   "execution_count": null,
   "id": "5bd336ae-af22-495b-95cd-b3227b8f32be",
   "metadata": {},
   "outputs": [],
   "source": [
    "# The Outcome variable contains only the value 0. In other words, the dataset lacks class diversity, as all observations belong to the same class.\n",
    "# As a result, the model predicts every observation as 0, regardless of the input features.\n",
    "# The accuracy score is 1.0, but this value is misleading, since the model has not actually learned any decision rules—it is simply repeating the single existing class.\n",
    "# The confusion matrix confirms this: all observations are classified as 0, while class 1 is completely absent.\n",
    "# Similarly, the classification report only provides metrics for class 0, and values for class 1 cannot be computed because it does not exist in the dataset.\n",
    "# These results show that the dataset suffers not from class imbalance, but from a complete lack of diversity in the target variable. Since there is only one class present, the evaluation metrics are not meaningful. For a realistic classification task, the target variable (Outcome) must contain at least two distinct classes."
   ]
  },
  {
   "cell_type": "code",
   "execution_count": 72,
   "id": "a7037975-55ff-449e-b5f5-8814262ee230",
   "metadata": {},
   "outputs": [],
   "source": [
    "from sklearn.tree import plot_tree"
   ]
  },
  {
   "cell_type": "code",
   "execution_count": 74,
   "id": "031c82d9-06bd-4903-877e-6bf8866fb009",
   "metadata": {
    "scrolled": true
   },
   "outputs": [
    {
     "data": {
      "image/png": "[encoded data removed]",
      "text/plain": [
       "<Figure size 2000x1000 with 1 Axes>"
      ]
     },
     "metadata": {},
     "output_type": "display_data"
    }
   ],
   "source": [
    "plt.figure(figsize=(20,10))\n",
    "plot_tree(model, feature_names=x.columns, class_names=[0], filled=True)\n",
    "plt.show()"
   ]
  },
  {
   "cell_type": "code",
   "execution_count": null,
   "id": "43c6a289-f3f6-4911-bde8-f3a3bdf82148",
   "metadata": {},
   "outputs": [],
   "source": [
    "# The decision tree visualization shows a single leaf node with gini = 0.0, samples = 156, and value = 1.0. This indicates that all training samples belong to the same class, resulting in a pure node without any splits. As a consequence, the decision tree cannot differentiate between features, and no variable contributes to the classification."
   ]
  },
  {
   "cell_type": "code",
   "execution_count": 76,
   "id": "1f80a148-675e-4aa3-a4d6-da7fa93b0983",
   "metadata": {},
   "outputs": [
    {
     "name": "stdout",
     "output_type": "stream",
     "text": [
      "                       Feature  Importance\n",
      "0                    Case Type         0.0\n",
      "1         Case Duration (Days)         0.0\n",
      "2     Judge Experience (Years)         0.0\n",
      "3          Number of Witnesses         0.0\n",
      "4             Legal Fees (USD)         0.0\n",
      "5       Plaintiff's Reputation         0.0\n",
      "6     Defendant's Wealth (USD)         0.0\n",
      "7     Number of Evidence Items         0.0\n",
      "8   Number of Legal Precedents         0.0\n",
      "9     Settlement Offered (USD)         0.0\n",
      "10                    Severity         0.0\n"
     ]
    }
   ],
   "source": [
    "feature_importances = pd.DataFrame({\n",
    "    'Feature': x.columns,\n",
    "    'Importance': model.feature_importances_\n",
    "}).sort_values(by='Importance', ascending=False)\n",
    "\n",
    "print(feature_importances)"
   ]
  },
  {
   "cell_type": "code",
   "execution_count": null,
   "id": "a6178377-ee2b-4b55-afa8-6efcc3f8f09a",
   "metadata": {},
   "outputs": [],
   "source": [
    "# Since the target variable has only one class (0), the decision tree cannot effectively split the data. As a result, feature importances are either zero or distributed randomly. This means that no feature actually contributes to predicting the outcome, because there is no variation in the target variable.\n",
    "# In a real classification problem with at least two classes, the decision tree would rank features according to their contribution to splitting the data. For example, variables like \"Case Type\", \"Judge Experience (Years)\", or \"Defendant's Wealth (USD)\" might have been important predictors. However, due to the structure of this dataset, all features appear equally irrelevant."
   ]
  }
 ],
 "metadata": {
  "kernelspec": {
   "display_name": "Python [conda env:base] *",
   "language": "python",
   "name": "conda-base-py"
  },
  "language_info": {
   "codemirror_mode": {
    "name": "ipython",
    "version": 3
   },
   "file_extension": ".py",
   "mimetype": "text/x-python",
   "name": "python",
   "nbconvert_exporter": "python",
   "pygments_lexer": "ipython3",
   "version": "3.12.4"
  }
 },
 "nbformat": 4,
 "nbformat_minor": 5
}
