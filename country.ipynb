{
 "cells": [
  {
   "cell_type": "code",
   "execution_count": 1,
   "id": "7378daa2-34b9-4955-ba2f-6f76a0904ee7",
   "metadata": {},
   "outputs": [],
   "source": [
    "import pandas as pd"
   ]
  },
  {
   "cell_type": "code",
   "execution_count": 3,
   "id": "cbade1a0-5ee6-47fd-a423-ede01f989414",
   "metadata": {},
   "outputs": [
    {
     "name": "stdout",
     "output_type": "stream",
     "text": [
      "           Country                               Region  Population  \\\n",
      "0     Afghanistan         ASIA (EX. NEAR EAST)             31056997   \n",
      "1         Albania   EASTERN EUROPE                          3581655   \n",
      "2         Algeria   NORTHERN AFRICA                        32930091   \n",
      "3  American Samoa   OCEANIA                                   57794   \n",
      "4         Andorra   WESTERN EUROPE                            71201   \n",
      "\n",
      "   Area (sq. mi.) Pop. Density (per sq. mi.) Coastline (coast/area ratio)  \\\n",
      "0          647500                       48,0                         0,00   \n",
      "1           28748                      124,6                         1,26   \n",
      "2         2381740                       13,8                         0,04   \n",
      "3             199                      290,4                        58,29   \n",
      "4             468                      152,1                         0,00   \n",
      "\n",
      "  Net migration Infant mortality (per 1000 births)  GDP ($ per capita)  \\\n",
      "0         23,06                             163,07               700.0   \n",
      "1         -4,93                              21,52              4500.0   \n",
      "2         -0,39                                 31              6000.0   \n",
      "3        -20,71                               9,27              8000.0   \n",
      "4           6,6                               4,05             19000.0   \n",
      "\n",
      "  Literacy (%) Phones (per 1000) Arable (%) Crops (%) Other (%) Climate  \\\n",
      "0         36,0               3,2      12,13      0,22     87,65       1   \n",
      "1         86,5              71,2      21,09      4,42     74,49       3   \n",
      "2         70,0              78,1       3,22      0,25     96,53       1   \n",
      "3         97,0             259,5         10        15        75       2   \n",
      "4        100,0             497,2       2,22         0     97,78       3   \n",
      "\n",
      "  Birthrate Deathrate Agriculture Industry Service  \n",
      "0      46,6     20,34        0,38     0,24    0,38  \n",
      "1     15,11      5,22       0,232    0,188   0,579  \n",
      "2     17,14      4,61       0,101      0,6   0,298  \n",
      "3     22,46      3,27         NaN      NaN     NaN  \n",
      "4      8,71      6,25         NaN      NaN     NaN  \n"
     ]
    }
   ],
   "source": [
    "df = pd.read_csv(r\"C:\\Users\\Didar\\Downloads\\bitirme\\country.csv\")\n",
    "print(df.head())"
   ]
  },
  {
   "cell_type": "code",
   "execution_count": 8,
   "id": "87844698-9812-4a3a-b841-3af05c1128c8",
   "metadata": {},
   "outputs": [
    {
     "name": "stdout",
     "output_type": "stream",
     "text": [
      "                   Country  Population\n",
      "42                  China   1313973713\n",
      "94                  India   1095351995\n",
      "214         United States    298444215\n",
      "95              Indonesia    245452739\n",
      "27                 Brazil    188078227\n",
      "..                     ...         ...\n",
      "144                 Nauru        13287\n",
      "209                Tuvalu        11810\n",
      "140            Montserrat         9439\n",
      "171          Saint Helena         7502\n",
      "174  St Pierre & Miquelon         7026\n",
      "\n",
      "[227 rows x 2 columns]\n"
     ]
    }
   ],
   "source": [
    "population_desc = df.sort_values(by=\"Population\", ascending=False)\n",
    "print(population_desc[[\"Country\", \"Population\"]])"
   ]
  },
  {
   "cell_type": "code",
   "execution_count": null,
   "id": "ac595ca4-81f7-4ba3-9bf5-5d3cfa03229d",
   "metadata": {},
   "outputs": [],
   "source": [
    "# The table shows countries sorted in descending order by population. China and India have the largest populations, each exceeding one billion, followed by the United States, Indonesia, and Brazil. At the lower end, small countries and territories such as Nauru, Tuvalu, Montserrat, Saint Helena, and St Pierre & Miquelon have populations under 15,000."
   ]
  },
  {
   "cell_type": "code",
   "execution_count": 10,
   "id": "efb08f83-6dbd-4743-b7c1-6ef462b1ce2f",
   "metadata": {},
   "outputs": [
    {
     "name": "stdout",
     "output_type": "stream",
     "text": [
      "             Country  GDP ($ per capita)\n",
      "58       East Timor                500.0\n",
      "188         Somalia                500.0\n",
      "183    Sierra Leone                500.0\n",
      "33          Burundi                600.0\n",
      "200        Tanzania                600.0\n",
      "..               ...                 ...\n",
      "22          Bermuda              36000.0\n",
      "214   United States              37800.0\n",
      "154          Norway              37800.0\n",
      "121      Luxembourg              55100.0\n",
      "223  Western Sahara                  NaN\n",
      "\n",
      "[227 rows x 2 columns]\n"
     ]
    }
   ],
   "source": [
    "gdp_asc = df.sort_values(by=\"GDP ($ per capita)\", ascending=True)\n",
    "print(gdp_asc[[\"Country\", \"GDP ($ per capita)\"]])"
   ]
  },
  {
   "cell_type": "code",
   "execution_count": null,
   "id": "c2616692-700e-4d8d-abdd-86914de5c6f9",
   "metadata": {},
   "outputs": [],
   "source": [
    "# The table shows countries sorted in ascending order by GDP ($ per capita). East Timor and Somalia have the least GDP. Luxembourg has the most GDP. Western Sahara has missing GDP."
   ]
  },
  {
   "cell_type": "code",
   "execution_count": 12,
   "id": "2629bc14-b4cb-44e0-a3fb-19c4faaadf5c",
   "metadata": {},
   "outputs": [
    {
     "name": "stdout",
     "output_type": "stream",
     "text": [
      "          Country  Population\n",
      "0    Afghanistan     31056997\n",
      "2        Algeria     32930091\n",
      "5         Angola     12127071\n",
      "8      Argentina     39921833\n",
      "11     Australia     20264082\n",
      "..            ...         ...\n",
      "218    Venezuela     25730435\n",
      "219      Vietnam     84402966\n",
      "224        Yemen     21456188\n",
      "225       Zambia     11502010\n",
      "226     Zimbabwe     12236805\n",
      "\n",
      "[79 rows x 2 columns]\n"
     ]
    }
   ],
   "source": [
    "population_over_10m = df[df[\"Population\"] > 10000000]\n",
    "print(population_over_10m[[\"Country\", \"Population\"]])"
   ]
  },
  {
   "cell_type": "code",
   "execution_count": 14,
   "id": "ac28cbb1-4692-4568-93b8-892b44fc0cf7",
   "metadata": {},
   "outputs": [
    {
     "name": "stdout",
     "output_type": "stream",
     "text": [
      "             Country Literacy (%)\n",
      "53   Czech Republic          99,9\n",
      "93          Iceland          99,9\n",
      "163          Poland          99,8\n",
      "114          Latvia          99,8\n",
      "64          Estonia          99,8\n"
     ]
    }
   ],
   "source": [
    "top5_literacy = df.sort_values(by=\"Literacy (%)\", ascending=False).head(5)\n",
    "print(top5_literacy[[\"Country\", \"Literacy (%)\"]])"
   ]
  },
  {
   "cell_type": "code",
   "execution_count": null,
   "id": "a64b8a61-634e-4930-a5e7-e6b444c3c7b1",
   "metadata": {},
   "outputs": [],
   "source": [
    "# Czech Republic and Iceland have the most %99,9 of Literacy followed by Iceland, Poland, Latvia, Estonia which %99,8 Literacy."
   ]
  },
  {
   "cell_type": "code",
   "execution_count": 16,
   "id": "d488e2e0-e663-4915-822b-dc6ba3da6a73",
   "metadata": {},
   "outputs": [
    {
     "name": "stdout",
     "output_type": "stream",
     "text": [
      "                   Country  GDP ($ per capita)\n",
      "4                 Andorra              19000.0\n",
      "7       Antigua & Barbuda              11000.0\n",
      "8               Argentina              11200.0\n",
      "10                  Aruba              28000.0\n",
      "11              Australia              29000.0\n",
      "..                     ...                 ...\n",
      "212  United Arab Emirates              23200.0\n",
      "213        United Kingdom              27700.0\n",
      "214         United States              37800.0\n",
      "215               Uruguay              12800.0\n",
      "220        Virgin Islands              17200.0\n",
      "\n",
      "[76 rows x 2 columns]\n"
     ]
    }
   ],
   "source": [
    "gdp_over_10000 = df[df[\"GDP ($ per capita)\"] > 10000]\n",
    "print(gdp_over_10000[[\"Country\", \"GDP ($ per capita)\"]])"
   ]
  },
  {
   "cell_type": "code",
   "execution_count": null,
   "id": "bbdb1f3d-ac9c-454b-a5fa-c7dff931d2d9",
   "metadata": {},
   "outputs": [],
   "source": [
    "# This table shows countries with GDP per capita greater than $10,000, ranging from $11,000 in Antigua & Barbuda to $37,800 in the United States."
   ]
  },
  {
   "cell_type": "code",
   "execution_count": 18,
   "id": "fb0393bf-9a34-485a-a003-993a71758572",
   "metadata": {},
   "outputs": [
    {
     "name": "stdout",
     "output_type": "stream",
     "text": [
      "         Country Pop. Density (per sq. mi.)\n",
      "9       Armenia                        99,9\n",
      "186    Slovenia                        99,2\n",
      "202        Togo                        97,7\n",
      "12      Austria                        97,7\n",
      "168     Romania                        93,9\n",
      "77        Ghana                        93,6\n",
      "140  Montserrat                        92,5\n",
      "13   Azerbaijan                        91,9\n",
      "56     Dominica                        91,4\n",
      "206      Turkey                        90,2\n"
     ]
    }
   ],
   "source": [
    "top10_density = df.sort_values(by=\"Pop. Density (per sq. mi.)\", ascending=False).head(10)\n",
    "print(top10_density[[\"Country\", \"Pop. Density (per sq. mi.)\"]])"
   ]
  },
  {
   "cell_type": "code",
   "execution_count": null,
   "id": "6b16ca39-2840-45f7-a6fd-6b2c1417f7bf",
   "metadata": {},
   "outputs": [],
   "source": [
    "# This table lists the top 10 countries with the highest population density, ranging from 90.2 in Turkey to 99.9 in Armenia."
   ]
  }
 ],
 "metadata": {
  "kernelspec": {
   "display_name": "Python [conda env:base] *",
   "language": "python",
   "name": "conda-base-py"
  },
  "language_info": {
   "codemirror_mode": {
    "name": "ipython",
    "version": 3
   },
   "file_extension": ".py",
   "mimetype": "text/x-python",
   "name": "python",
   "nbconvert_exporter": "python",
   "pygments_lexer": "ipython3",
   "version": "3.12.4"
  }
 },
 "nbformat": 4,
 "nbformat_minor": 5
}
